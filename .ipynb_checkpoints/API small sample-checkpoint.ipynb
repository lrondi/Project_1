{
 "cells": [
  {
   "cell_type": "markdown",
   "metadata": {},
   "source": [
    "# Using Ensembl REST API"
   ]
  },
  {
   "cell_type": "code",
   "execution_count": 1,
   "metadata": {},
   "outputs": [],
   "source": [
    "import requests, sys\n",
    "from pprint import pprint\n",
    "#import xmltodict\n",
    "import re\n",
    "import numpy as np\n",
    "import pandas as pd"
   ]
  },
  {
   "cell_type": "code",
   "execution_count": 3,
   "metadata": {},
   "outputs": [],
   "source": [
    "genes_df = pd.read_csv('Data/DriverMapTPM.tsv', delimiter='\\t')"
   ]
  },
  {
   "cell_type": "code",
   "execution_count": 4,
   "metadata": {},
   "outputs": [],
   "source": [
    "genes_comp = list(genes_df.iloc[0:10,0])\n",
    "genes_list = []\n",
    "\n",
    "for gene in genes_comp:\n",
    "    gene_name = gene.split('|')\n",
    "    genes_list.append(gene_name[1])\n"
   ]
  },
  {
   "cell_type": "code",
   "execution_count": 5,
   "metadata": {},
   "outputs": [
    {
     "data": {
      "text/plain": [
       "['CENPU',\n",
       " 'PEX14',\n",
       " 'RAD52',\n",
       " 'CLYBL',\n",
       " 'RANBP1',\n",
       " 'KDF1',\n",
       " 'TBC1D30',\n",
       " 'TMEM258',\n",
       " 'LRG1',\n",
       " 'HYAL1']"
      ]
     },
     "execution_count": 5,
     "metadata": {},
     "output_type": "execute_result"
    }
   ],
   "source": [
    "genes_list"
   ]
  },
  {
   "cell_type": "code",
   "execution_count": 6,
   "metadata": {
    "scrolled": true
   },
   "outputs": [
    {
     "name": "stdout",
     "output_type": "stream",
     "text": [
      "{'Adipose_Subcutaneous': 1,\n",
      " 'Adipose_Visceral_Omentum': 1,\n",
      " 'Adrenal_Gland': 1,\n",
      " 'Artery_Aorta': 1,\n",
      " 'Artery_Coronary': 1,\n",
      " 'Artery_Tibial': 1,\n",
      " 'Brain_Anterior_cingulate_cortex_BA24': 1,\n",
      " 'Brain_Caudate_basal_ganglia': 1,\n",
      " 'Brain_Cerebellar_Hemisphere': 1,\n",
      " 'Brain_Cerebellum': 1,\n",
      " 'Brain_Cortex': 1,\n",
      " 'Brain_Frontal_Cortex_BA9': 1,\n",
      " 'Brain_Hippocampus': 1,\n",
      " 'Brain_Hypothalamus': 1,\n",
      " 'Brain_Nucleus_accumbens_basal_ganglia': 1,\n",
      " 'Brain_Putamen_basal_ganglia': 1,\n",
      " 'Breast_Mammary_Tissue': 1,\n",
      " 'Cells_EBV-transformed_lymphocytes': 1,\n",
      " 'Cells_Transformed_fibroblasts': 1,\n",
      " 'Colon_Sigmoid': 1,\n",
      " 'Colon_Transverse': 1,\n",
      " 'Esophagus_Gastroesophageal_Junction': 1,\n",
      " 'Esophagus_Mucosa': 1,\n",
      " 'Esophagus_Muscularis': 1,\n",
      " 'Heart_Atrial_Appendage': 1,\n",
      " 'Heart_Left_Ventricle': 1,\n",
      " 'Liver': 1,\n",
      " 'Lung': 1,\n",
      " 'Muscle_Skeletal': 1,\n",
      " 'Nerve_Tibial': 1,\n",
      " 'Ovary': 1,\n",
      " 'Pancreas': 1,\n",
      " 'Pituitary': 1,\n",
      " 'Prostate': 1,\n",
      " 'Skin_Not_Sun_Exposed_Suprapubic': 1,\n",
      " 'Skin_Sun_Exposed_Lower_leg': 1,\n",
      " 'Small_Intestine_Terminal_Ileum': 1,\n",
      " 'Spleen': 1,\n",
      " 'Stomach': 1,\n",
      " 'Testis': 1,\n",
      " 'Thyroid': 1,\n",
      " 'Uterus': 1,\n",
      " 'Vagina': 1,\n",
      " 'Whole_Blood': 1}\n"
     ]
    }
   ],
   "source": [
    "# This function is performed to get list of available Homo Sapiens tissue types from Ensembl\n",
    " \n",
    "server = \"http://grch37.rest.ensembl.org\"\n",
    "ext = \"/eqtl/tissue/homo_sapiens?\"\n",
    " \n",
    "r = requests.get(server+ext, headers={ \"Content-Type\" : \"application/json\"})\n",
    " \n",
    "if not r.ok:\n",
    "  r.raise_for_status()\n",
    "  sys.exit()\n",
    " \n",
    "tissue_dict = r.json() # total of 44 tissue types\n",
    "\n",
    "pprint(tissue_dict)"
   ]
  },
  {
   "cell_type": "code",
   "execution_count": 7,
   "metadata": {},
   "outputs": [
    {
     "data": {
      "text/plain": [
       "['Brain_Anterior_cingulate_cortex_BA24',\n",
       " 'Brain_Caudate_basal_ganglia',\n",
       " 'Brain_Cerebellar_Hemisphere',\n",
       " 'Brain_Cerebellum',\n",
       " 'Brain_Cortex',\n",
       " 'Brain_Frontal_Cortex_BA9',\n",
       " 'Brain_Hippocampus',\n",
       " 'Brain_Hypothalamus']"
      ]
     },
     "execution_count": 7,
     "metadata": {},
     "output_type": "execute_result"
    }
   ],
   "source": [
    "# convert tissue dictionary to tissue list\n",
    "dlist = []\n",
    "for i in tissue_dict.items():\n",
    "    dlist.append(i)\n",
    "\n",
    "tissue_list = []    \n",
    "for i in range(len(dlist)):\n",
    "    tissue_list.append(dlist[i][0])\n",
    "tissue_list.sort()\n",
    "tissue_brain = tissue_list[6:14]\n",
    "tissue_brain"
   ]
  },
  {
   "cell_type": "code",
   "execution_count": 13,
   "metadata": {},
   "outputs": [
    {
     "name": "stdout",
     "output_type": "stream",
     "text": [
      "Retrieving CENPU for tissue Brain_Anterior_cingulate_cortex_BA24\n",
      "Retrieving CENPU for tissue Brain_Caudate_basal_ganglia\n",
      "Retrieving CENPU for tissue Brain_Cerebellar_Hemisphere\n",
      "Retrieving CENPU for tissue Brain_Cerebellum\n",
      "Retrieving CENPU for tissue Brain_Cortex\n",
      "Retrieving CENPU for tissue Brain_Frontal_Cortex_BA9\n",
      "Retrieving CENPU for tissue Brain_Hippocampus\n",
      "Retrieving CENPU for tissue Brain_Hypothalamus\n",
      "Retrieving PEX14 for tissue Brain_Anterior_cingulate_cortex_BA24\n",
      "Retrieving PEX14 for tissue Brain_Caudate_basal_ganglia\n",
      "Retrieving PEX14 for tissue Brain_Cerebellar_Hemisphere\n",
      "Retrieving PEX14 for tissue Brain_Cerebellum\n",
      "Retrieving PEX14 for tissue Brain_Cortex\n",
      "Retrieving PEX14 for tissue Brain_Frontal_Cortex_BA9\n",
      "Retrieving PEX14 for tissue Brain_Hippocampus\n",
      "Retrieving PEX14 for tissue Brain_Hypothalamus\n",
      "Retrieving RAD52 for tissue Brain_Anterior_cingulate_cortex_BA24\n",
      "Retrieving RAD52 for tissue Brain_Caudate_basal_ganglia\n",
      "Retrieving RAD52 for tissue Brain_Cerebellar_Hemisphere\n",
      "Retrieving RAD52 for tissue Brain_Cerebellum\n",
      "Retrieving RAD52 for tissue Brain_Cortex\n",
      "Retrieving RAD52 for tissue Brain_Frontal_Cortex_BA9\n",
      "Retrieving RAD52 for tissue Brain_Hippocampus\n",
      "Retrieving RAD52 for tissue Brain_Hypothalamus\n",
      "Retrieving CLYBL for tissue Brain_Anterior_cingulate_cortex_BA24\n",
      "Retrieving CLYBL for tissue Brain_Caudate_basal_ganglia\n",
      "Retrieving CLYBL for tissue Brain_Cerebellar_Hemisphere\n",
      "Retrieving CLYBL for tissue Brain_Cerebellum\n",
      "Retrieving CLYBL for tissue Brain_Cortex\n",
      "Retrieving CLYBL for tissue Brain_Frontal_Cortex_BA9\n",
      "Retrieving CLYBL for tissue Brain_Hippocampus\n",
      "Retrieving CLYBL for tissue Brain_Hypothalamus\n",
      "Retrieving RANBP1 for tissue Brain_Anterior_cingulate_cortex_BA24\n",
      "Retrieving RANBP1 for tissue Brain_Caudate_basal_ganglia\n",
      "Retrieving RANBP1 for tissue Brain_Cerebellar_Hemisphere\n",
      "Retrieving RANBP1 for tissue Brain_Cerebellum\n",
      "Retrieving RANBP1 for tissue Brain_Cortex\n",
      "Retrieving RANBP1 for tissue Brain_Frontal_Cortex_BA9\n",
      "Retrieving RANBP1 for tissue Brain_Hippocampus\n",
      "Retrieving RANBP1 for tissue Brain_Hypothalamus\n",
      "Retrieving KDF1 for tissue Brain_Anterior_cingulate_cortex_BA24\n",
      "Gene not found, passing\n",
      "Retrieving KDF1 for tissue Brain_Caudate_basal_ganglia\n",
      "Gene not found, passing\n",
      "Retrieving KDF1 for tissue Brain_Cerebellar_Hemisphere\n",
      "Gene not found, passing\n",
      "Retrieving KDF1 for tissue Brain_Cerebellum\n",
      "Gene not found, passing\n",
      "Retrieving KDF1 for tissue Brain_Cortex\n",
      "Gene not found, passing\n",
      "Retrieving KDF1 for tissue Brain_Frontal_Cortex_BA9\n",
      "Gene not found, passing\n",
      "Retrieving KDF1 for tissue Brain_Hippocampus\n",
      "Gene not found, passing\n",
      "Retrieving KDF1 for tissue Brain_Hypothalamus\n",
      "Gene not found, passing\n",
      "Retrieving TBC1D30 for tissue Brain_Anterior_cingulate_cortex_BA24\n",
      "Retrieving TBC1D30 for tissue Brain_Caudate_basal_ganglia\n",
      "Retrieving TBC1D30 for tissue Brain_Cerebellar_Hemisphere\n",
      "Retrieving TBC1D30 for tissue Brain_Cerebellum\n",
      "Retrieving TBC1D30 for tissue Brain_Cortex\n",
      "Retrieving TBC1D30 for tissue Brain_Frontal_Cortex_BA9\n",
      "Retrieving TBC1D30 for tissue Brain_Hippocampus\n",
      "Retrieving TBC1D30 for tissue Brain_Hypothalamus\n",
      "Retrieving TMEM258 for tissue Brain_Anterior_cingulate_cortex_BA24\n",
      "Retrieving TMEM258 for tissue Brain_Caudate_basal_ganglia\n",
      "Retrieving TMEM258 for tissue Brain_Cerebellar_Hemisphere\n",
      "Retrieving TMEM258 for tissue Brain_Cerebellum\n",
      "Retrieving TMEM258 for tissue Brain_Cortex\n",
      "Retrieving TMEM258 for tissue Brain_Frontal_Cortex_BA9\n",
      "Retrieving TMEM258 for tissue Brain_Hippocampus\n",
      "Retrieving TMEM258 for tissue Brain_Hypothalamus\n",
      "Retrieving LRG1 for tissue Brain_Anterior_cingulate_cortex_BA24\n",
      "Retrieving LRG1 for tissue Brain_Caudate_basal_ganglia\n",
      "Retrieving LRG1 for tissue Brain_Cerebellar_Hemisphere\n",
      "Retrieving LRG1 for tissue Brain_Cerebellum\n",
      "Retrieving LRG1 for tissue Brain_Cortex\n",
      "Retrieving LRG1 for tissue Brain_Frontal_Cortex_BA9\n",
      "Retrieving LRG1 for tissue Brain_Hippocampus\n",
      "Retrieving LRG1 for tissue Brain_Hypothalamus\n",
      "Retrieving HYAL1 for tissue Brain_Anterior_cingulate_cortex_BA24\n",
      "Retrieving HYAL1 for tissue Brain_Caudate_basal_ganglia\n",
      "Retrieving HYAL1 for tissue Brain_Cerebellar_Hemisphere\n",
      "Retrieving HYAL1 for tissue Brain_Cerebellum\n",
      "Retrieving HYAL1 for tissue Brain_Cortex\n",
      "Retrieving HYAL1 for tissue Brain_Frontal_Cortex_BA9\n",
      "Retrieving HYAL1 for tissue Brain_Hippocampus\n",
      "Retrieving HYAL1 for tissue Brain_Hypothalamus\n"
     ]
    }
   ],
   "source": [
    "failed_genes = []\n",
    "tissue_gene_values_dict = {}\n",
    "for gene in genes_list:\n",
    "    for tissue in tissue_brain:\n",
    "        statistic = 'p-value'\n",
    "        server = \"http://grch37.rest.ensembl.org\"\n",
    "        ext = f\"/eqtl/id/homo_sapiens/{gene}?;tissue={tissue};statistic={statistic}\"\n",
    " \n",
    "        r = requests.get(server+ext, headers={ \"Content-Type\" : \"application/json\"})\n",
    "        print(f'Retrieving {gene} for tissue {tissue}')\n",
    "        \n",
    "        if not r.ok:\n",
    "            if gene not in failed_genes:\n",
    "                failed_genes.append(gene)\n",
    "            print('Gene not found, passing')\n",
    "            pass\n",
    "        \n",
    "        tissue_gene_values_dict[gene] = r.json()\n",
    "        \n"
   ]
  },
  {
   "cell_type": "code",
   "execution_count": 14,
   "metadata": {},
   "outputs": [
    {
     "data": {
      "text/plain": [
       "['KDF1']"
      ]
     },
     "execution_count": 14,
     "metadata": {},
     "output_type": "execute_result"
    }
   ],
   "source": [
    "failed_genes"
   ]
  },
  {
   "cell_type": "code",
   "execution_count": 15,
   "metadata": {},
   "outputs": [],
   "source": [
    "for i in failed_genes:\n",
    "    tissue_gene_values_dict.pop(i)"
   ]
  },
  {
   "cell_type": "code",
   "execution_count": 16,
   "metadata": {},
   "outputs": [
    {
     "data": {
      "text/plain": [
       "dict_keys(['CENPU', 'PEX14', 'RAD52', 'CLYBL', 'RANBP1', 'TBC1D30', 'TMEM258', 'LRG1', 'HYAL1'])"
      ]
     },
     "execution_count": 16,
     "metadata": {},
     "output_type": "execute_result"
    }
   ],
   "source": [
    "tissue_gene_values_dict.keys()"
   ]
  },
  {
   "cell_type": "code",
   "execution_count": 23,
   "metadata": {},
   "outputs": [
    {
     "data": {
      "text/plain": [
       "[]"
      ]
     },
     "execution_count": 23,
     "metadata": {},
     "output_type": "execute_result"
    }
   ],
   "source": [
    "tissue_gene_values_dict['HYAL1'] # for some reason this gene doesn't have info"
   ]
  },
  {
   "cell_type": "code",
   "execution_count": 17,
   "metadata": {},
   "outputs": [],
   "source": [
    "# getting list of specific values from the {tissue_gene_values_dict}\n",
    "# collecting values and negative log10(p-value) for that gene\n",
    "\n",
    "gene_values_dict = {}\n",
    "\n",
    "for gene in tissue_gene_values_dict:\n",
    "    gene_values_dict[gene] = {}\n",
    "    for i in range(len(tissue_gene_values_dict[gene])):\n",
    "        #print(gene,tissue_gene_values_dict[gene][i]['minus_log10_p_value'])\n",
    "        gene_values_dict[gene][i] = [tissue_gene_values_dict[gene][i]['minus_log10_p_value'], \n",
    "                                  tissue_gene_values_dict[gene][i]['value']]\n"
   ]
  },
  {
   "cell_type": "code",
   "execution_count": 18,
   "metadata": {},
   "outputs": [
    {
     "name": "stdout",
     "output_type": "stream",
     "text": [
      "Mean of p-values: {'CENPU': 0.6046874207143056, 'PEX14': 0.3612288053977717, 'RAD52': 0.4831311476544303, 'CLYBL': 0.4857805199442888, 'RANBP1': 0.5025294018180532, 'TBC1D30': 0.28769339766171936, 'TMEM258': 0.40369389546815276, 'LRG1': 0.4522683899591349, 'HYAL1': nan}\n",
      "Mean of values: {'CENPU': 0.43619547997982155, 'PEX14': 0.5411148082417763, 'RAD52': 0.46716437210488704, 'CLYBL': 0.4781123920492219, 'RANBP1': 0.4976978548905414, 'TBC1D30': 0.608018286938663, 'TMEM258': 0.5397171452895307, 'LRG1': 0.48367725393903804, 'HYAL1': nan}\n"
     ]
    },
    {
     "name": "stderr",
     "output_type": "stream",
     "text": [
      "C:\\Users\\luron\\Anaconda3\\lib\\site-packages\\numpy\\core\\fromnumeric.py:2920: RuntimeWarning: Mean of empty slice.\n",
      "  out=out, **kwargs)\n",
      "C:\\Users\\luron\\Anaconda3\\lib\\site-packages\\numpy\\core\\_methods.py:85: RuntimeWarning: invalid value encountered in double_scalars\n",
      "  ret = ret.dtype.type(ret / rcount)\n"
     ]
    }
   ],
   "source": [
    "# because dictionary contains multiple location expression of the gene in chosen tissue,\n",
    "# we collect all values and take the mean\n",
    "mean_pvalues = {}\n",
    "mean_values = {}\n",
    "for gene in gene_values_dict:\n",
    "    temp_dict = gene_values_dict[gene]\n",
    "    list_pvalues = []\n",
    "    list_values = []\n",
    "    for i in range(len(temp_dict.keys())):\n",
    "        list_pvalues.append(temp_dict[i][0])\n",
    "        list_values.append(temp_dict[i][1])\n",
    "    mean_pvalues[gene] = np.mean(list_pvalues)\n",
    "    mean_values[gene] = np.mean(list_values)   \n",
    "    \n",
    "print(f'Mean of p-values: {mean_pvalues}')\n",
    "print(f'Mean of values: {mean_values}')"
   ]
  },
  {
   "cell_type": "code",
   "execution_count": 19,
   "metadata": {},
   "outputs": [
    {
     "data": {
      "text/html": [
       "<div>\n",
       "<style scoped>\n",
       "    .dataframe tbody tr th:only-of-type {\n",
       "        vertical-align: middle;\n",
       "    }\n",
       "\n",
       "    .dataframe tbody tr th {\n",
       "        vertical-align: top;\n",
       "    }\n",
       "\n",
       "    .dataframe thead th {\n",
       "        text-align: right;\n",
       "    }\n",
       "</style>\n",
       "<table border=\"1\" class=\"dataframe\">\n",
       "  <thead>\n",
       "    <tr style=\"text-align: right;\">\n",
       "      <th></th>\n",
       "      <th>Mean p-value</th>\n",
       "      <th>Mean value</th>\n",
       "    </tr>\n",
       "  </thead>\n",
       "  <tbody>\n",
       "    <tr>\n",
       "      <th>CENPU</th>\n",
       "      <td>0.604687</td>\n",
       "      <td>0.436195</td>\n",
       "    </tr>\n",
       "    <tr>\n",
       "      <th>PEX14</th>\n",
       "      <td>0.361229</td>\n",
       "      <td>0.541115</td>\n",
       "    </tr>\n",
       "    <tr>\n",
       "      <th>RAD52</th>\n",
       "      <td>0.483131</td>\n",
       "      <td>0.467164</td>\n",
       "    </tr>\n",
       "    <tr>\n",
       "      <th>CLYBL</th>\n",
       "      <td>0.485781</td>\n",
       "      <td>0.478112</td>\n",
       "    </tr>\n",
       "    <tr>\n",
       "      <th>RANBP1</th>\n",
       "      <td>0.502529</td>\n",
       "      <td>0.497698</td>\n",
       "    </tr>\n",
       "    <tr>\n",
       "      <th>TBC1D30</th>\n",
       "      <td>0.287693</td>\n",
       "      <td>0.608018</td>\n",
       "    </tr>\n",
       "    <tr>\n",
       "      <th>TMEM258</th>\n",
       "      <td>0.403694</td>\n",
       "      <td>0.539717</td>\n",
       "    </tr>\n",
       "    <tr>\n",
       "      <th>LRG1</th>\n",
       "      <td>0.452268</td>\n",
       "      <td>0.483677</td>\n",
       "    </tr>\n",
       "    <tr>\n",
       "      <th>HYAL1</th>\n",
       "      <td>NaN</td>\n",
       "      <td>NaN</td>\n",
       "    </tr>\n",
       "  </tbody>\n",
       "</table>\n",
       "</div>"
      ],
      "text/plain": [
       "         Mean p-value  Mean value\n",
       "CENPU        0.604687    0.436195\n",
       "PEX14        0.361229    0.541115\n",
       "RAD52        0.483131    0.467164\n",
       "CLYBL        0.485781    0.478112\n",
       "RANBP1       0.502529    0.497698\n",
       "TBC1D30      0.287693    0.608018\n",
       "TMEM258      0.403694    0.539717\n",
       "LRG1         0.452268    0.483677\n",
       "HYAL1             NaN         NaN"
      ]
     },
     "execution_count": 19,
     "metadata": {},
     "output_type": "execute_result"
    }
   ],
   "source": [
    "means_pv_df = pd.DataFrame.from_dict(mean_pvalues, orient='index')\n",
    "means_pv_df = means_pv_df.rename(columns={0:'Mean p-value'})\n",
    "means_v_df = pd.DataFrame.from_dict(mean_values, orient='index')\n",
    "means_v_df = means_v_df.rename(columns={0:'Mean value'})\n",
    "means_df = pd.merge(means_pv_df, means_v_df, left_index=True, right_index=True)\n",
    "means_df"
   ]
  }
 ],
 "metadata": {
  "kernelspec": {
   "display_name": "Python 3",
   "language": "python",
   "name": "python3"
  },
  "language_info": {
   "codemirror_mode": {
    "name": "ipython",
    "version": 3
   },
   "file_extension": ".py",
   "mimetype": "text/x-python",
   "name": "python",
   "nbconvert_exporter": "python",
   "pygments_lexer": "ipython3",
   "version": "3.7.1"
  }
 },
 "nbformat": 4,
 "nbformat_minor": 2
}
