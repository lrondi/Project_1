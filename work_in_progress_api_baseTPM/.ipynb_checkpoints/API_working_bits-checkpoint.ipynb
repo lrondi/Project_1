{
 "cells": [
  {
   "cell_type": "markdown",
   "metadata": {},
   "source": [
    "# Using Ensembl REST API"
   ]
  },
  {
   "cell_type": "code",
   "execution_count": 18,
   "metadata": {},
   "outputs": [],
   "source": [
    "import requests, sys\n",
    "from pprint import pprint\n",
    "import xmltodict\n",
    "import re\n",
    "import numpy as np"
   ]
  },
  {
   "cell_type": "code",
   "execution_count": 6,
   "metadata": {
    "scrolled": true
   },
   "outputs": [],
   "source": [
    "# This function is performed to get list of available Homo Sapience tissue types from Ensembl\n",
    " \n",
    "server = \"http://grch37.rest.ensembl.org\"\n",
    "ext = \"/eqtl/tissue/homo_sapiens?\"\n",
    " \n",
    "r = requests.get(server+ext, headers={ \"Content-Type\" : \"application/json\"})\n",
    " \n",
    "if not r.ok:\n",
    "  r.raise_for_status()\n",
    "  sys.exit()\n",
    " \n",
    "tissue_dict = r.json() # total of 44 tissue types\n",
    "\n",
    "#pprint(tissue_dict)"
   ]
  },
  {
   "cell_type": "code",
   "execution_count": 7,
   "metadata": {},
   "outputs": [],
   "source": [
    "# convert tissue dictionary to tissue list\n",
    "dlist = []\n",
    "for i in tissue_dict.items():\n",
    "    dlist.append(i)\n",
    "\n",
    "tissue_list = []    \n",
    "for i in range(len(dlist)):\n",
    "    tissue_list.append(dlist[i][0])\n",
    "    "
   ]
  },
  {
   "cell_type": "code",
   "execution_count": 13,
   "metadata": {},
   "outputs": [],
   "source": [
    "# api for searching through Ensembl data base by gene, tissue, statistics.\n",
    "# iterrating through expression quantitative trait loci (eQTLs), which is a locus \n",
    "# that explains a fraction of the genetic variance of a gene expression phenotype\n",
    "\n",
    "gene = 'CENPU'\n",
    "tissue = 'Adipose_Visceral_Omentum'\n",
    "statistic = 'p-value'\n",
    "\n",
    "server = \"http://grch37.rest.ensembl.org\"\n",
    "ext = f\"/eqtl/id/homo_sapiens/{gene}?;tissue={tissue};statistic={statistic}\"\n",
    " \n",
    "r = requests.get(server+ext, headers={ \"Content-Type\" : \"application/json\"})\n",
    " \n",
    "if not r.ok:\n",
    "  r.raise_for_status()\n",
    "  sys.exit()\n",
    " \n",
    "tissue_gene_values_dict = r.json()\n",
    "#pprint(tissue_gene_values_dict)\n"
   ]
  },
  {
   "cell_type": "code",
   "execution_count": 16,
   "metadata": {},
   "outputs": [],
   "source": [
    "# getting list of specific values from the {tissue_gene_values_dict}\n",
    "# collecting values and negative log10(p-value) for that gene\n",
    "\n",
    "tissue_gene_values_dict[0]['minus_log10_p_value']\n",
    "tissue_gene_values_dict[0]['value']\n",
    "\n",
    "i = 0\n",
    "minus_log10_p_value = []\n",
    "value = []\n",
    "\n",
    "for i in range(len(tissue_gene_values_dict)):\n",
    "    minus_log10_p_value.append(tissue_gene_values_dict[i]['minus_log10_p_value'])\n",
    "    value.append(tissue_gene_values_dict[i]['value'])\n"
   ]
  },
  {
   "cell_type": "code",
   "execution_count": 19,
   "metadata": {},
   "outputs": [],
   "source": [
    "# because dictionary contains multiple location expression of the gene in chosen tissue,\n",
    "# we collecting all values and converting it to mean\n",
    "\n",
    "mean_minus_log10_p_value = np.mean(minus_log10_p_value)\n",
    "mean_value = np.mean(value)\n"
   ]
  },
  {
   "cell_type": "code",
   "execution_count": 20,
   "metadata": {},
   "outputs": [
    {
     "data": {
      "text/plain": [
       "[0.7590264183783493, 0.44036451350771805]"
      ]
     },
     "execution_count": 20,
     "metadata": {},
     "output_type": "execute_result"
    }
   ],
   "source": [
    "# making a list of chosen tissue for specific gene as [mean_minus_log10_p_value, mean_value]\n",
    "tissue_gene_value = []\n",
    "\n",
    "tissue_values.append(mean_minus_log10_p_value)\n",
    "tissue_values.append(mean_value)\n",
    "tissue_values\n",
    "\n",
    "# for gene 'CENPU' in tissue 'Adipose_Visceral_Omentum' we get \n",
    "# [0.7590264183783493, 0.44036451350771805]\n",
    "# [mean_minus_log10_p_value, mean_value]"
   ]
  },
  {
   "cell_type": "code",
   "execution_count": null,
   "metadata": {},
   "outputs": [],
   "source": [
    "# attempt to iterrate through all tissues, with all genes, and create didctionary with values\n",
    "\n",
    "server = \"http://grch37.rest.ensembl.org\"\n",
    "statistic = 'p-value'\n",
    "failed_genes = []\n",
    "decoded_list = []\n",
    "\n",
    "for t in tissue_list:\n",
    "    tissue = t\n",
    "    gene_values_gene = []\n",
    "    \n",
    "    for x in gene_name_list:\n",
    "        gene = x\n",
    "        \n",
    "        ext = f\"/eqtl/id/homo_sapiens/{gene}?;tissue={tissue};statistic={statistic}\"\n",
    " \n",
    "        r = requests.get(server+ext, headers={ \"Content-Type\" : \"application/json\"})\n",
    " \n",
    "        if not r.ok:\n",
    "            failed_genes.append(x)\n",
    "            pass\n",
    " \n",
    "        decoded = r.json()\n",
    "        decoded_list.append(decoded)\n",
    "        \n",
    "        \n",
    "#        minus_log10_p_value = []\n",
    "#        value = []\n",
    "#        \n",
    "#        for i in range(len(decoded)):\n",
    "#            minus_log10_p_value.append(decoded[i]['minus_log10_p_value'])\n",
    "#            value.append(decoded[i]['value'])\n",
    "\n",
    "#        mean_minus_log10_p_value = np.mean(minus_log10_p_value)\n",
    "#        mean_value = np.mean(value)\n",
    "        \n",
    "#        gene_values_gene.append(mean_minus_log10_p_value)\n",
    "#        gene_values_gene.append(mean_value)\n",
    "        \n",
    "        #gene_values_gene = dict([x, gene_values])\n",
    "     \n",
    " #   gene_values_tissue.append()\n",
    "    #epic_dict = dict([t, gene_dict])\n",
    "        \n",
    "#gene_tissue_df = pd.DataFrame(np.array([[gene_values]]), columns=tissue_list, index = gene_name_list)"
   ]
  },
  {
   "cell_type": "code",
   "execution_count": null,
   "metadata": {},
   "outputs": [],
   "source": [
    "\n",
    "    for x in gene_name_list:\n",
    "        gene = x\n",
    "        tissue = tissue_list[0]\n",
    "        \n",
    "        ext = f\"/eqtl/id/homo_sapiens/{gene}?;tissue={tissue};statistic={statistic}\"\n",
    " \n",
    "        r = requests.get(server+ext, headers={ \"Content-Type\" : \"application/json\"})\n",
    " \n",
    "        if not r.ok:\n",
    "            failed_genes.append(x)\n",
    "            pass\n",
    " \n",
    "        decoded = r.json()\n",
    "        \n",
    "        \n",
    "        minus_log10_p_value = []\n",
    "        value = []\n",
    "        \n",
    "        for i in range(len(decoded)):\n",
    "            minus_log10_p_value.append(decoded[i]['minus_log10_p_value'])\n",
    "            value.append(decoded[i]['value'])\n",
    "            \n",
    "        mean_minus_log10_p_value = np.mean(minus_log10_p_value)\n",
    "        mean_value = np.mean(value)\n",
    "        \n",
    "        gene_values_gene.append(mean_minus_log10_p_value)\n",
    "        gene_values_gene.append(mean_value)\n"
   ]
  },
  {
   "cell_type": "code",
   "execution_count": null,
   "metadata": {},
   "outputs": [],
   "source": [
    "\n",
    "failed_genes = []\n",
    "server = \"http://grch37.rest.ensembl.org\"\n",
    "z = 189\n",
    "a = 0\n",
    "b = z\n",
    "counter = 0\n",
    "\n",
    "for x in gene_name_list[a:b]:\n",
    "    gene = x\n",
    "    tissue = tissue_list[0]\n",
    "    #failed_genes = []\n",
    "        \n",
    "    ext = f\"/eqtl/id/homo_sapiens/{gene}?;tissue={tissue};statistic={statistic}\"\n",
    " \n",
    "    r = requests.get(server+ext, headers={ \"Content-Type\" : \"application/json\"})\n",
    " \n",
    "    if not r.ok:\n",
    "        failed_genes.append(x)\n",
    "        pass\n",
    "    a = b\n",
    "    b += z\n",
    "    counter += 1\n",
    "     \n",
    "    #decoded = r.json()\n",
    "    \n",
    "print(failed_genes)\n",
    "print(counter)\n",
    "len(gene_name_list)/100\n",
    "failed_genes = ['KDF1', 'NUP58', 'HIST1H2BM', 'LOC100134391', 'DDIAS', 'TCAF1', 'ADGRD2', 'RBM15B', 'LOC339862']\n",
    "gene_name_list\n"
   ]
  },
  {
   "cell_type": "code",
   "execution_count": null,
   "metadata": {},
   "outputs": [],
   "source": [
    "\n",
    "#gene_name_list.remove('KDF1')\n",
    "#gene_name_list.index(\"KDF1\")\n",
    "    \n",
    "#gene_name_list.remove([y for y in failed_genes])\n",
    "#gene_name_list = [x for x in gene_name_list if x != [y for y in failed_genes]]\n",
    "len(gene_name_list) # 18989\n",
    "#gene_name_list_cleaned = gene_name_list.remove([y for y in failed_genes])\n"
   ]
  },
  {
   "cell_type": "code",
   "execution_count": null,
   "metadata": {},
   "outputs": [],
   "source": [
    "len(gene_name_list)\n",
    "def api_search ():\n",
    "    server = \"http://grch37.rest.ensembl.org\"\n",
    "    statistic = 'p-value'\n",
    "    \n",
    "    for t in tissue_list:\n",
    "        tissue = t\n",
    "    for x in gene_name_list:\n",
    "        gene = x\n",
    "        \n",
    "decoded_list = []"
   ]
  },
  {
   "cell_type": "code",
   "execution_count": null,
   "metadata": {},
   "outputs": [],
   "source": [
    "# wrote possible function to create gene_values_gene \n",
    "def extracting_value(decoded):\n",
    "    gene_values_gene = []\n",
    "    for i in range(len(decoded)):\n",
    "        minus_log10_p_value.append(decoded[i]['minus_log10_p_value'])\n",
    "        value.append(decoded[i]['value'])\n",
    "        \n",
    "    mean_minus_log10_p_value = np.mean(minus_log10_p_value)\n",
    "    mean_value = np.mean(value)\n",
    "        \n",
    "    gene_values_gene.append(mean_minus_log10_p_value)\n",
    "    gene_values_gene.append(mean_value)\n",
    "    \n",
    "    return gene_values_gene\n",
    "    "
   ]
  },
  {
   "cell_type": "code",
   "execution_count": null,
   "metadata": {},
   "outputs": [],
   "source": [
    "# small function that lest's you give it GENE SYMBOL and return enterz_id\n",
    "\n",
    "def convert_symbol_to_entrezid(symbol):\n",
    "    \"\"\"Convert Symbol to Entrez Gene Id\"\"\"\n",
    "    entrezdict = {}\n",
    "    server = \"http://rest.genenames.org/fetch/symbol/{0}\".format(symbol)\n",
    "    r = requests.get(server, headers={\"Content-Type\": \"application/json\"})\n",
    "    if not r.ok:\n",
    "        r.raise_for_status()\n",
    "        sys.exit()\n",
    "    response = r.text\n",
    "    info = xmltodict.parse(response)\n",
    "    for data in info['response']['result']['doc']['str']:\n",
    "        if data['@name'] == 'entrez_id':\n",
    "            entrezdict[data['@name']] = data['#text']\n",
    "        if data['@name'] == 'symbol':\n",
    "            entrezdict[data['@name']] = data['#text']\n",
    "    return entrezdict"
   ]
  },
  {
   "cell_type": "code",
   "execution_count": null,
   "metadata": {},
   "outputs": [],
   "source": [
    "conversion = convert_symbol_to_entrezid(gene_name_list[0])\n",
    "conversion['entrez_id']\n"
   ]
  }
 ],
 "metadata": {
  "kernelspec": {
   "display_name": "Python 3",
   "language": "python",
   "name": "python3"
  },
  "language_info": {
   "codemirror_mode": {
    "name": "ipython",
    "version": 3
   },
   "file_extension": ".py",
   "mimetype": "text/x-python",
   "name": "python",
   "nbconvert_exporter": "python",
   "pygments_lexer": "ipython3",
   "version": "3.6.6"
  }
 },
 "nbformat": 4,
 "nbformat_minor": 2
}
